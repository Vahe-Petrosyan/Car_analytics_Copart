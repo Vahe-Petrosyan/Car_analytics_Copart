{
 "cells": [
  {
   "cell_type": "code",
   "execution_count": 1,
   "metadata": {},
   "outputs": [],
   "source": [
    "#Importing Packages\n",
    "import numpy as np\n",
    "import pandas as pd\n",
    "from sklearn.model_selection import train_test_split\n",
    "from sklearn.tree import DecisionTreeRegressor\n",
    "from sklearn.metrics import accuracy_score\n",
    "from sklearn.model_selection import cross_val_score\n",
    "from sklearn import tree\n",
    "import re\n",
    "from pprint import pprint"
   ]
  },
  {
   "cell_type": "code",
   "execution_count": 2,
   "metadata": {},
   "outputs": [
    {
     "data": {
      "text/plain": [
       "Index(['Unnamed: 0', 'VIN', 'Price', 'Year', 'Make', 'Model Group',\n",
       "       'Model Detail', 'Body Style', 'Color', 'Damage Description', 'Odometer',\n",
       "       'Est. Retail Value', 'Repair cost', 'Engine', 'Drive', 'Cylinders',\n",
       "       'Sale Status'],\n",
       "      dtype='object')"
      ]
     },
     "execution_count": 2,
     "metadata": {},
     "output_type": "execute_result"
    }
   ],
   "source": [
    "#Loading datasets\n",
    "data1=pd.read_csv(\"C:/Users/Taron/Desktop/Vahe/Car Copart/General/cars_price.csv\")\n",
    "data2=pd.read_csv(\"C:/Users/Taron/Desktop/Vahe/Car Copart/General/salesdata1.csv\")\n",
    "result = pd.merge(data1, data2, on='VIN')\n",
    "result.columns"
   ]
  },
  {
   "cell_type": "code",
   "execution_count": 3,
   "metadata": {},
   "outputs": [],
   "source": [
    "del result['Unnamed: 0']"
   ]
  },
  {
   "cell_type": "code",
   "execution_count": 4,
   "metadata": {},
   "outputs": [],
   "source": [
    "result = result.dropna()\n",
    "result = result[result.Price != 0]\n",
    "result = result[result.Price != \"UNKNOWN\"]"
   ]
  },
  {
   "cell_type": "code",
   "execution_count": 5,
   "metadata": {},
   "outputs": [
    {
     "data": {
      "text/plain": [
       "(4027, 16)"
      ]
     },
     "execution_count": 5,
     "metadata": {},
     "output_type": "execute_result"
    }
   ],
   "source": [
    "result.shape"
   ]
  },
  {
   "cell_type": "code",
   "execution_count": 6,
   "metadata": {},
   "outputs": [],
   "source": [
    "result.loc[:,\"Price\"]=[re.sub(\"USD\", \"\", i) for i in result.loc[:,\"Price\"]]\n",
    "result.loc[:,\"Price\"]=[re.sub(\"CAD\", \"\", i) for i in result.loc[:,\"Price\"]]\n",
    "result.loc[:,\"Price\"]=[re.sub(r\"\\$\", \"\", i) for i in result.loc[:,\"Price\"]]\n",
    "result.loc[:,\"Price\"]=[re.sub(r\" \", \"\", i) for i in result.loc[:,\"Price\"]]"
   ]
  },
  {
   "cell_type": "code",
   "execution_count": 7,
   "metadata": {},
   "outputs": [],
   "source": [
    "data=result.loc[:, [\"Price\", 'Make', 'Model Group','Color', \n",
    "                  'Damage Description', 'Sale Status',\n",
    "                  'Year','Odometer','Est. Retail Value']]"
   ]
  },
  {
   "cell_type": "code",
   "execution_count": 8,
   "metadata": {},
   "outputs": [
    {
     "data": {
      "text/html": [
       "<div>\n",
       "<style scoped>\n",
       "    .dataframe tbody tr th:only-of-type {\n",
       "        vertical-align: middle;\n",
       "    }\n",
       "\n",
       "    .dataframe tbody tr th {\n",
       "        vertical-align: top;\n",
       "    }\n",
       "\n",
       "    .dataframe thead th {\n",
       "        text-align: right;\n",
       "    }\n",
       "</style>\n",
       "<table border=\"1\" class=\"dataframe\">\n",
       "  <thead>\n",
       "    <tr style=\"text-align: right;\">\n",
       "      <th></th>\n",
       "      <th>Price</th>\n",
       "      <th>Make</th>\n",
       "      <th>Model Group</th>\n",
       "      <th>Color</th>\n",
       "      <th>Damage Description</th>\n",
       "      <th>Sale Status</th>\n",
       "      <th>Year</th>\n",
       "      <th>Odometer</th>\n",
       "      <th>Est. Retail Value</th>\n",
       "    </tr>\n",
       "  </thead>\n",
       "  <tbody>\n",
       "    <tr>\n",
       "      <th>0</th>\n",
       "      <td>1300</td>\n",
       "      <td>VOLKSWAGEN</td>\n",
       "      <td>ROUTAN SE</td>\n",
       "      <td>WHITE</td>\n",
       "      <td>Front</td>\n",
       "      <td>Pure</td>\n",
       "      <td>2010</td>\n",
       "      <td>80311</td>\n",
       "      <td>9671</td>\n",
       "    </tr>\n",
       "    <tr>\n",
       "      <th>1</th>\n",
       "      <td>2550</td>\n",
       "      <td>TOYOTA</td>\n",
       "      <td>COROLLA BA</td>\n",
       "      <td>RED</td>\n",
       "      <td>Side</td>\n",
       "      <td>Pure</td>\n",
       "      <td>2010</td>\n",
       "      <td>112976</td>\n",
       "      <td>7570</td>\n",
       "    </tr>\n",
       "    <tr>\n",
       "      <th>2</th>\n",
       "      <td>4350</td>\n",
       "      <td>ACURA</td>\n",
       "      <td>TSX</td>\n",
       "      <td>WHITE</td>\n",
       "      <td>Side</td>\n",
       "      <td>Pure</td>\n",
       "      <td>2010</td>\n",
       "      <td>96183</td>\n",
       "      <td>9245</td>\n",
       "    </tr>\n",
       "    <tr>\n",
       "      <th>3</th>\n",
       "      <td>4100</td>\n",
       "      <td>ACURA</td>\n",
       "      <td>MDX</td>\n",
       "      <td>SILVER</td>\n",
       "      <td>Rear</td>\n",
       "      <td>Pure</td>\n",
       "      <td>2010</td>\n",
       "      <td>111533</td>\n",
       "      <td>15747</td>\n",
       "    </tr>\n",
       "    <tr>\n",
       "      <th>4</th>\n",
       "      <td>900</td>\n",
       "      <td>TOYOTA</td>\n",
       "      <td>COROLLA BA</td>\n",
       "      <td>GRAY</td>\n",
       "      <td>Front</td>\n",
       "      <td>Pure</td>\n",
       "      <td>2010</td>\n",
       "      <td>232125</td>\n",
       "      <td>5840</td>\n",
       "    </tr>\n",
       "  </tbody>\n",
       "</table>\n",
       "</div>"
      ],
      "text/plain": [
       "  Price        Make Model Group   Color Damage Description Sale Status  Year  \\\n",
       "0  1300  VOLKSWAGEN   ROUTAN SE   WHITE              Front        Pure  2010   \n",
       "1  2550      TOYOTA  COROLLA BA     RED               Side        Pure  2010   \n",
       "2  4350       ACURA         TSX   WHITE               Side        Pure  2010   \n",
       "3  4100       ACURA         MDX  SILVER               Rear        Pure  2010   \n",
       "4   900      TOYOTA  COROLLA BA    GRAY              Front        Pure  2010   \n",
       "\n",
       "   Odometer  Est. Retail Value  \n",
       "0     80311               9671  \n",
       "1    112976               7570  \n",
       "2     96183               9245  \n",
       "3    111533              15747  \n",
       "4    232125               5840  "
      ]
     },
     "execution_count": 8,
     "metadata": {},
     "output_type": "execute_result"
    }
   ],
   "source": [
    "data.head()"
   ]
  },
  {
   "cell_type": "code",
   "execution_count": 9,
   "metadata": {},
   "outputs": [],
   "source": [
    "data.loc[:, \"Price\"] = data[\"Price\"].astype('int')"
   ]
  },
  {
   "cell_type": "code",
   "execution_count": 10,
   "metadata": {},
   "outputs": [
    {
     "data": {
      "text/plain": [
       "Price                  int32\n",
       "Make                  object\n",
       "Model Group           object\n",
       "Color                 object\n",
       "Damage Description    object\n",
       "Sale Status           object\n",
       "Year                   int64\n",
       "Odometer               int64\n",
       "Est. Retail Value      int64\n",
       "dtype: object"
      ]
     },
     "execution_count": 10,
     "metadata": {},
     "output_type": "execute_result"
    }
   ],
   "source": [
    "data.dtypes"
   ]
  },
  {
   "cell_type": "raw",
   "metadata": {},
   "source": [
    "Modeling for TOYOTA"
   ]
  },
  {
   "cell_type": "code",
   "execution_count": 11,
   "metadata": {},
   "outputs": [
    {
     "data": {
      "text/plain": [
       "(1036, 9)"
      ]
     },
     "execution_count": 11,
     "metadata": {},
     "output_type": "execute_result"
    }
   ],
   "source": [
    "Toyota=data[data.Make==\"TOYOTA\"]\n",
    "Toyota.shape"
   ]
  },
  {
   "cell_type": "code",
   "execution_count": 12,
   "metadata": {},
   "outputs": [],
   "source": [
    "X1=Toyota.iloc[:, 2:]\n",
    "X2=pd.read_csv(\"C:/Users/Taron/Desktop/corolla small.csv\")\n",
    "Y=Toyota.iloc[:, 0]"
   ]
  },
  {
   "cell_type": "code",
   "execution_count": 13,
   "metadata": {},
   "outputs": [],
   "source": [
    "X=pd.concat([X1, X2], ignore_index=True)"
   ]
  },
  {
   "cell_type": "code",
   "execution_count": 14,
   "metadata": {},
   "outputs": [],
   "source": [
    "categorical_feature_mask=X.dtypes==object\n",
    "categorical_cols=X.columns[categorical_feature_mask].tolist()"
   ]
  },
  {
   "cell_type": "code",
   "execution_count": 15,
   "metadata": {},
   "outputs": [],
   "source": [
    "from sklearn.preprocessing import LabelEncoder, OneHotEncoder\n",
    "le=LabelEncoder()\n",
    "X[categorical_cols]=X[categorical_cols].astype(str)"
   ]
  },
  {
   "cell_type": "code",
   "execution_count": 16,
   "metadata": {},
   "outputs": [
    {
     "data": {
      "text/html": [
       "<div>\n",
       "<style scoped>\n",
       "    .dataframe tbody tr th:only-of-type {\n",
       "        vertical-align: middle;\n",
       "    }\n",
       "\n",
       "    .dataframe tbody tr th {\n",
       "        vertical-align: top;\n",
       "    }\n",
       "\n",
       "    .dataframe thead th {\n",
       "        text-align: right;\n",
       "    }\n",
       "</style>\n",
       "<table border=\"1\" class=\"dataframe\">\n",
       "  <thead>\n",
       "    <tr style=\"text-align: right;\">\n",
       "      <th></th>\n",
       "      <th>Model Group</th>\n",
       "      <th>Color</th>\n",
       "      <th>Damage Description</th>\n",
       "      <th>Sale Status</th>\n",
       "    </tr>\n",
       "  </thead>\n",
       "  <tbody>\n",
       "    <tr>\n",
       "      <th>0</th>\n",
       "      <td>6</td>\n",
       "      <td>12</td>\n",
       "      <td>7</td>\n",
       "      <td>2</td>\n",
       "    </tr>\n",
       "    <tr>\n",
       "      <th>1</th>\n",
       "      <td>6</td>\n",
       "      <td>7</td>\n",
       "      <td>2</td>\n",
       "      <td>2</td>\n",
       "    </tr>\n",
       "    <tr>\n",
       "      <th>2</th>\n",
       "      <td>6</td>\n",
       "      <td>2</td>\n",
       "      <td>7</td>\n",
       "      <td>2</td>\n",
       "    </tr>\n",
       "    <tr>\n",
       "      <th>3</th>\n",
       "      <td>13</td>\n",
       "      <td>13</td>\n",
       "      <td>2</td>\n",
       "      <td>2</td>\n",
       "    </tr>\n",
       "    <tr>\n",
       "      <th>4</th>\n",
       "      <td>6</td>\n",
       "      <td>6</td>\n",
       "      <td>2</td>\n",
       "      <td>2</td>\n",
       "    </tr>\n",
       "  </tbody>\n",
       "</table>\n",
       "</div>"
      ],
      "text/plain": [
       "   Model Group  Color  Damage Description  Sale Status\n",
       "0            6     12                   7            2\n",
       "1            6      7                   2            2\n",
       "2            6      2                   7            2\n",
       "3           13     13                   2            2\n",
       "4            6      6                   2            2"
      ]
     },
     "execution_count": 16,
     "metadata": {},
     "output_type": "execute_result"
    }
   ],
   "source": [
    "X[categorical_cols]=X[categorical_cols].apply(lambda col:\n",
    "                                                   le.fit_transform(col))\n",
    "X[categorical_cols].head()"
   ]
  },
  {
   "cell_type": "code",
   "execution_count": 17,
   "metadata": {},
   "outputs": [],
   "source": [
    "n=[len(np.unique(X[i])) for i in [\n",
    "    'Model Group','Color','Damage Description','Sale Status']]"
   ]
  },
  {
   "cell_type": "code",
   "execution_count": 18,
   "metadata": {},
   "outputs": [
    {
     "data": {
      "text/plain": [
       "[31, 19, 11, 3]"
      ]
     },
     "execution_count": 18,
     "metadata": {},
     "output_type": "execute_result"
    }
   ],
   "source": [
    "n"
   ]
  },
  {
   "cell_type": "code",
   "execution_count": 19,
   "metadata": {},
   "outputs": [
    {
     "data": {
      "text/plain": [
       "64"
      ]
     },
     "execution_count": 19,
     "metadata": {},
     "output_type": "execute_result"
    }
   ],
   "source": [
    "sum(n)"
   ]
  },
  {
   "cell_type": "code",
   "execution_count": 20,
   "metadata": {},
   "outputs": [
    {
     "data": {
      "text/html": [
       "<div>\n",
       "<style scoped>\n",
       "    .dataframe tbody tr th:only-of-type {\n",
       "        vertical-align: middle;\n",
       "    }\n",
       "\n",
       "    .dataframe tbody tr th {\n",
       "        vertical-align: top;\n",
       "    }\n",
       "\n",
       "    .dataframe thead th {\n",
       "        text-align: right;\n",
       "    }\n",
       "</style>\n",
       "<table border=\"1\" class=\"dataframe\">\n",
       "  <thead>\n",
       "    <tr style=\"text-align: right;\">\n",
       "      <th></th>\n",
       "      <th>Model Group</th>\n",
       "      <th>Color</th>\n",
       "      <th>Damage Description</th>\n",
       "      <th>Sale Status</th>\n",
       "      <th>Year</th>\n",
       "      <th>Odometer</th>\n",
       "      <th>Est. Retail Value</th>\n",
       "    </tr>\n",
       "  </thead>\n",
       "  <tbody>\n",
       "    <tr>\n",
       "      <th>0</th>\n",
       "      <td>6</td>\n",
       "      <td>12</td>\n",
       "      <td>7</td>\n",
       "      <td>2</td>\n",
       "      <td>2010</td>\n",
       "      <td>112976</td>\n",
       "      <td>7570.0</td>\n",
       "    </tr>\n",
       "    <tr>\n",
       "      <th>1</th>\n",
       "      <td>6</td>\n",
       "      <td>7</td>\n",
       "      <td>2</td>\n",
       "      <td>2</td>\n",
       "      <td>2010</td>\n",
       "      <td>232125</td>\n",
       "      <td>5840.0</td>\n",
       "    </tr>\n",
       "    <tr>\n",
       "      <th>2</th>\n",
       "      <td>6</td>\n",
       "      <td>2</td>\n",
       "      <td>7</td>\n",
       "      <td>2</td>\n",
       "      <td>2010</td>\n",
       "      <td>141307</td>\n",
       "      <td>5978.0</td>\n",
       "    </tr>\n",
       "    <tr>\n",
       "      <th>3</th>\n",
       "      <td>13</td>\n",
       "      <td>13</td>\n",
       "      <td>2</td>\n",
       "      <td>2</td>\n",
       "      <td>2010</td>\n",
       "      <td>146093</td>\n",
       "      <td>10372.0</td>\n",
       "    </tr>\n",
       "    <tr>\n",
       "      <th>4</th>\n",
       "      <td>6</td>\n",
       "      <td>6</td>\n",
       "      <td>2</td>\n",
       "      <td>2</td>\n",
       "      <td>2010</td>\n",
       "      <td>123135</td>\n",
       "      <td>7353.0</td>\n",
       "    </tr>\n",
       "  </tbody>\n",
       "</table>\n",
       "</div>"
      ],
      "text/plain": [
       "   Model Group  Color  Damage Description  Sale Status  Year  Odometer  \\\n",
       "0            6     12                   7            2  2010    112976   \n",
       "1            6      7                   2            2  2010    232125   \n",
       "2            6      2                   7            2  2010    141307   \n",
       "3           13     13                   2            2  2010    146093   \n",
       "4            6      6                   2            2  2010    123135   \n",
       "\n",
       "   Est. Retail Value  \n",
       "0             7570.0  \n",
       "1             5840.0  \n",
       "2             5978.0  \n",
       "3            10372.0  \n",
       "4             7353.0  "
      ]
     },
     "execution_count": 20,
     "metadata": {},
     "output_type": "execute_result"
    }
   ],
   "source": [
    "X.head()"
   ]
  },
  {
   "cell_type": "code",
   "execution_count": 24,
   "metadata": {},
   "outputs": [],
   "source": [
    "#Encoding categorical data\n",
    "from sklearn.preprocessing import OneHotEncoder\n",
    "ohe = OneHotEncoder(categorical_features = categorical_feature_mask)\n",
    "X=ohe.fit_transform(X).toarray()"
   ]
  },
  {
   "cell_type": "markdown",
   "metadata": {},
   "source": [
    "# DECISION TREE"
   ]
  },
  {
   "cell_type": "code",
   "execution_count": 25,
   "metadata": {},
   "outputs": [],
   "source": [
    "X_train, X_test, y_train,y_test=train_test_split(X[0:1036,k], Y, test_size=0.2, random_state=0)"
   ]
  },
  {
   "cell_type": "code",
   "execution_count": 26,
   "metadata": {},
   "outputs": [
    {
     "data": {
      "text/plain": [
       "DecisionTreeRegressor(criterion='mse', max_depth=3, max_features=None,\n",
       "           max_leaf_nodes=None, min_impurity_decrease=0.0,\n",
       "           min_impurity_split=None, min_samples_leaf=3,\n",
       "           min_samples_split=2, min_weight_fraction_leaf=0.0,\n",
       "           presort=False, random_state=0, splitter='best')"
      ]
     },
     "execution_count": 26,
     "metadata": {},
     "output_type": "execute_result"
    }
   ],
   "source": [
    "regressor=DecisionTreeRegressor(criterion=\"mse\", random_state=0,\n",
    "                                  max_depth=3, min_samples_leaf=3)\n",
    "regressor.fit(X_train, y_train)"
   ]
  },
  {
   "cell_type": "code",
   "execution_count": 27,
   "metadata": {},
   "outputs": [
    {
     "data": {
      "text/plain": [
       "array([3359.69551282, 5316.0130719 , 3359.69551282, 2092.33128834,\n",
       "       3359.69551282, 5316.0130719 , 2092.33128834, 3359.69551282,\n",
       "       3359.69551282, 5316.0130719 ])"
      ]
     },
     "execution_count": 27,
     "metadata": {},
     "output_type": "execute_result"
    }
   ],
   "source": [
    "y_pred=regressor.predict(X_test)\n",
    "y_pred[0:10]"
   ]
  },
  {
   "cell_type": "code",
   "execution_count": 28,
   "metadata": {},
   "outputs": [
    {
     "data": {
      "text/plain": [
       "0.6089418771636481"
      ]
     },
     "execution_count": 28,
     "metadata": {},
     "output_type": "execute_result"
    }
   ],
   "source": [
    "score = regressor.score(X_test, y_test)\n",
    "score"
   ]
  },
  {
   "cell_type": "markdown",
   "metadata": {},
   "source": [
    "# LINEAR REGRESSION"
   ]
  },
  {
   "cell_type": "code",
   "execution_count": 21,
   "metadata": {},
   "outputs": [],
   "source": [
    "k=list(range(0,67))\n",
    "for i in [0,31,50,61]:\n",
    "    k.remove(i)"
   ]
  },
  {
   "cell_type": "code",
   "execution_count": 21,
   "metadata": {},
   "outputs": [],
   "source": [
    "to_be_pred=X[1036:,k]"
   ]
  },
  {
   "cell_type": "code",
   "execution_count": 22,
   "metadata": {},
   "outputs": [
    {
     "data": {
      "text/plain": [
       "array([[    0.,     0.,     0., ...,  2012., 26467.,  9993.],\n",
       "       [    0.,     0.,     0., ...,  2013., 92019.,  8435.],\n",
       "       [    0.,     0.,     0., ...,  2013., 60890.,  9996.],\n",
       "       ...,\n",
       "       [    0.,     0.,     0., ...,  2013., 81946.,  8536.],\n",
       "       [    0.,     0.,     0., ...,  2013., 55563., 11247.],\n",
       "       [    0.,     0.,     0., ...,  2012., 85300.,  8496.]])"
      ]
     },
     "execution_count": 22,
     "metadata": {},
     "output_type": "execute_result"
    }
   ],
   "source": [
    "to_be_pred"
   ]
  },
  {
   "cell_type": "code",
   "execution_count": 23,
   "metadata": {},
   "outputs": [],
   "source": [
    "from sklearn.model_selection import train_test_split\n",
    "X_train, X_test, y_train, y_test=train_test_split(X[0:1036,k],Y,test_size=0.2, random_state=0)"
   ]
  },
  {
   "cell_type": "code",
   "execution_count": 24,
   "metadata": {},
   "outputs": [
    {
     "data": {
      "text/plain": [
       "LinearRegression(copy_X=True, fit_intercept=True, n_jobs=1, normalize=False)"
      ]
     },
     "execution_count": 24,
     "metadata": {},
     "output_type": "execute_result"
    }
   ],
   "source": [
    "from sklearn.linear_model import LinearRegression\n",
    "regressor=LinearRegression()\n",
    "regressor.fit(X_train, y_train)"
   ]
  },
  {
   "cell_type": "code",
   "execution_count": 25,
   "metadata": {},
   "outputs": [],
   "source": [
    "y_pred=regressor.predict(X_test)"
   ]
  },
  {
   "cell_type": "code",
   "execution_count": 26,
   "metadata": {},
   "outputs": [
    {
     "data": {
      "text/plain": [
       "0.7211465328653388"
      ]
     },
     "execution_count": 26,
     "metadata": {},
     "output_type": "execute_result"
    }
   ],
   "source": [
    "from sklearn.metrics import r2_score\n",
    "r2_score(y_test,y_pred)"
   ]
  },
  {
   "cell_type": "code",
   "execution_count": 27,
   "metadata": {},
   "outputs": [
    {
     "data": {
      "text/plain": [
       "(208, 63)"
      ]
     },
     "execution_count": 27,
     "metadata": {},
     "output_type": "execute_result"
    }
   ],
   "source": [
    "X_test.shape"
   ]
  },
  {
   "cell_type": "code",
   "execution_count": 28,
   "metadata": {},
   "outputs": [
    {
     "data": {
      "text/plain": [
       "(28, 63)"
      ]
     },
     "execution_count": 28,
     "metadata": {},
     "output_type": "execute_result"
    }
   ],
   "source": [
    "to_be_pred.shape"
   ]
  },
  {
   "cell_type": "markdown",
   "metadata": {},
   "source": [
    "Corolla prediciton"
   ]
  },
  {
   "cell_type": "code",
   "execution_count": 29,
   "metadata": {},
   "outputs": [],
   "source": [
    "pred=regressor.predict(to_be_pred)"
   ]
  },
  {
   "cell_type": "code",
   "execution_count": 30,
   "metadata": {},
   "outputs": [
    {
     "data": {
      "text/plain": [
       "array([2652.57274969, 2664.71811799, 2685.59657333, 2339.82721583,\n",
       "       2993.25583131, 2353.92740896, 2399.53326732, 2820.7282251 ,\n",
       "       3163.37828231, 2359.83038434, 2796.84007799, 3424.76201603,\n",
       "       2804.56253554, 2873.44383715, 2517.51728334, 2016.5787199 ,\n",
       "       3882.71706284, 3147.49348306, 2891.33507364, 3126.05497512,\n",
       "       4139.48523694, 2894.63160499, 3834.95671267, 2587.77277812,\n",
       "       3054.42804677, 3089.9654682 , 3451.1339373 , 3311.79485118])"
      ]
     },
     "execution_count": 30,
     "metadata": {},
     "output_type": "execute_result"
    }
   ],
   "source": [
    "pred"
   ]
  },
  {
   "cell_type": "code",
   "execution_count": 32,
   "metadata": {},
   "outputs": [],
   "source": [
    "X2[\"Price\"]=pred\n",
    "corolla_full=X2"
   ]
  },
  {
   "cell_type": "code",
   "execution_count": 33,
   "metadata": {
    "collapsed": true
   },
   "outputs": [
    {
     "data": {
      "text/html": [
       "<div>\n",
       "<style scoped>\n",
       "    .dataframe tbody tr th:only-of-type {\n",
       "        vertical-align: middle;\n",
       "    }\n",
       "\n",
       "    .dataframe tbody tr th {\n",
       "        vertical-align: top;\n",
       "    }\n",
       "\n",
       "    .dataframe thead th {\n",
       "        text-align: right;\n",
       "    }\n",
       "</style>\n",
       "<table border=\"1\" class=\"dataframe\">\n",
       "  <thead>\n",
       "    <tr style=\"text-align: right;\">\n",
       "      <th></th>\n",
       "      <th>Model Group</th>\n",
       "      <th>Color</th>\n",
       "      <th>Damage Description</th>\n",
       "      <th>Sale Status</th>\n",
       "      <th>Year</th>\n",
       "      <th>Odometer</th>\n",
       "      <th>Est. Retail Value</th>\n",
       "      <th>Price</th>\n",
       "    </tr>\n",
       "  </thead>\n",
       "  <tbody>\n",
       "    <tr>\n",
       "      <th>0</th>\n",
       "      <td>COROLLA BA</td>\n",
       "      <td>SILVER</td>\n",
       "      <td>Front</td>\n",
       "      <td>Minimum</td>\n",
       "      <td>2012</td>\n",
       "      <td>26467</td>\n",
       "      <td>9993.00</td>\n",
       "      <td>2652.572750</td>\n",
       "    </tr>\n",
       "    <tr>\n",
       "      <th>1</th>\n",
       "      <td>COROLLA BA</td>\n",
       "      <td>BLACK</td>\n",
       "      <td>Front</td>\n",
       "      <td>Minimum</td>\n",
       "      <td>2013</td>\n",
       "      <td>92019</td>\n",
       "      <td>8435.00</td>\n",
       "      <td>2664.718118</td>\n",
       "    </tr>\n",
       "    <tr>\n",
       "      <th>2</th>\n",
       "      <td>COROLLA BA</td>\n",
       "      <td>BLUE</td>\n",
       "      <td>Front</td>\n",
       "      <td>Minimum</td>\n",
       "      <td>2013</td>\n",
       "      <td>60890</td>\n",
       "      <td>9996.00</td>\n",
       "      <td>2685.596573</td>\n",
       "    </tr>\n",
       "    <tr>\n",
       "      <th>3</th>\n",
       "      <td>COROLLA BA</td>\n",
       "      <td>BLUE</td>\n",
       "      <td>Front</td>\n",
       "      <td>Minimum</td>\n",
       "      <td>2012</td>\n",
       "      <td>83581</td>\n",
       "      <td>9597.00</td>\n",
       "      <td>2339.827216</td>\n",
       "    </tr>\n",
       "    <tr>\n",
       "      <th>4</th>\n",
       "      <td>COROLLA BA</td>\n",
       "      <td>GRAY</td>\n",
       "      <td>Front</td>\n",
       "      <td>Minimum</td>\n",
       "      <td>2013</td>\n",
       "      <td>63958</td>\n",
       "      <td>10518.00</td>\n",
       "      <td>2993.255831</td>\n",
       "    </tr>\n",
       "    <tr>\n",
       "      <th>5</th>\n",
       "      <td>COROLLA BA</td>\n",
       "      <td>BLACK</td>\n",
       "      <td>Front</td>\n",
       "      <td>Minimum</td>\n",
       "      <td>2012</td>\n",
       "      <td>89688</td>\n",
       "      <td>8346.00</td>\n",
       "      <td>2353.927409</td>\n",
       "    </tr>\n",
       "    <tr>\n",
       "      <th>6</th>\n",
       "      <td>COROLLA BA</td>\n",
       "      <td>BLUE</td>\n",
       "      <td>Front</td>\n",
       "      <td>Pure</td>\n",
       "      <td>2012</td>\n",
       "      <td>67531</td>\n",
       "      <td>9084.00</td>\n",
       "      <td>2399.533267</td>\n",
       "    </tr>\n",
       "    <tr>\n",
       "      <th>7</th>\n",
       "      <td>COROLLA BA</td>\n",
       "      <td>SILVER</td>\n",
       "      <td>Front</td>\n",
       "      <td>Minimum</td>\n",
       "      <td>2013</td>\n",
       "      <td>94010</td>\n",
       "      <td>9036.00</td>\n",
       "      <td>2820.728225</td>\n",
       "    </tr>\n",
       "    <tr>\n",
       "      <th>8</th>\n",
       "      <td>COROLLA BA</td>\n",
       "      <td>RED</td>\n",
       "      <td>Front</td>\n",
       "      <td>Pure</td>\n",
       "      <td>2013</td>\n",
       "      <td>42246</td>\n",
       "      <td>11142.00</td>\n",
       "      <td>3163.378282</td>\n",
       "    </tr>\n",
       "    <tr>\n",
       "      <th>9</th>\n",
       "      <td>COROLLA BA</td>\n",
       "      <td>BLACK</td>\n",
       "      <td>Front</td>\n",
       "      <td>Minimum</td>\n",
       "      <td>2012</td>\n",
       "      <td>78428</td>\n",
       "      <td>8440.00</td>\n",
       "      <td>2359.830384</td>\n",
       "    </tr>\n",
       "    <tr>\n",
       "      <th>10</th>\n",
       "      <td>COROLLA BA</td>\n",
       "      <td>BLACK</td>\n",
       "      <td>Front</td>\n",
       "      <td>Minimum</td>\n",
       "      <td>2013</td>\n",
       "      <td>56414</td>\n",
       "      <td>9257.00</td>\n",
       "      <td>2796.840078</td>\n",
       "    </tr>\n",
       "    <tr>\n",
       "      <th>11</th>\n",
       "      <td>COROLLA BA</td>\n",
       "      <td>GRAY</td>\n",
       "      <td>Front</td>\n",
       "      <td>Approval</td>\n",
       "      <td>2013</td>\n",
       "      <td>55968</td>\n",
       "      <td>10231.00</td>\n",
       "      <td>3424.762016</td>\n",
       "    </tr>\n",
       "    <tr>\n",
       "      <th>12</th>\n",
       "      <td>COROLLA BA</td>\n",
       "      <td>RED</td>\n",
       "      <td>Front</td>\n",
       "      <td>Minimum</td>\n",
       "      <td>2013</td>\n",
       "      <td>90970</td>\n",
       "      <td>10078.00</td>\n",
       "      <td>2804.562536</td>\n",
       "    </tr>\n",
       "    <tr>\n",
       "      <th>13</th>\n",
       "      <td>COROLLA BA</td>\n",
       "      <td>RED</td>\n",
       "      <td>Front</td>\n",
       "      <td>Minimum</td>\n",
       "      <td>2013</td>\n",
       "      <td>71318</td>\n",
       "      <td>10513.00</td>\n",
       "      <td>2873.443837</td>\n",
       "    </tr>\n",
       "    <tr>\n",
       "      <th>14</th>\n",
       "      <td>COROLLA BA</td>\n",
       "      <td>GRAY</td>\n",
       "      <td>Front</td>\n",
       "      <td>Pure</td>\n",
       "      <td>2012</td>\n",
       "      <td>55186</td>\n",
       "      <td>8820.00</td>\n",
       "      <td>2517.517283</td>\n",
       "    </tr>\n",
       "    <tr>\n",
       "      <th>15</th>\n",
       "      <td>COROLLA BA</td>\n",
       "      <td>SILVER</td>\n",
       "      <td>Front</td>\n",
       "      <td>Minimum</td>\n",
       "      <td>2012</td>\n",
       "      <td>79201</td>\n",
       "      <td>6739.00</td>\n",
       "      <td>2016.578720</td>\n",
       "    </tr>\n",
       "    <tr>\n",
       "      <th>16</th>\n",
       "      <td>COROLLA BA</td>\n",
       "      <td>BURGUNDY</td>\n",
       "      <td>Rear</td>\n",
       "      <td>Minimum</td>\n",
       "      <td>2013</td>\n",
       "      <td>81929</td>\n",
       "      <td>10233.00</td>\n",
       "      <td>3882.717063</td>\n",
       "    </tr>\n",
       "    <tr>\n",
       "      <th>17</th>\n",
       "      <td>COROLLA BA</td>\n",
       "      <td>RED</td>\n",
       "      <td>Rear</td>\n",
       "      <td>Pure</td>\n",
       "      <td>2012</td>\n",
       "      <td>54713</td>\n",
       "      <td>10008.00</td>\n",
       "      <td>3147.493483</td>\n",
       "    </tr>\n",
       "    <tr>\n",
       "      <th>18</th>\n",
       "      <td>COROLLA BA</td>\n",
       "      <td>BLUE</td>\n",
       "      <td>Rear</td>\n",
       "      <td>Minimum</td>\n",
       "      <td>2013</td>\n",
       "      <td>86759</td>\n",
       "      <td>8473.00</td>\n",
       "      <td>2891.335074</td>\n",
       "    </tr>\n",
       "    <tr>\n",
       "      <th>19</th>\n",
       "      <td>COROLLA BA</td>\n",
       "      <td>RED</td>\n",
       "      <td>Rear</td>\n",
       "      <td>Minimum</td>\n",
       "      <td>2012</td>\n",
       "      <td>50335</td>\n",
       "      <td>10819.00</td>\n",
       "      <td>3126.054975</td>\n",
       "    </tr>\n",
       "    <tr>\n",
       "      <th>20</th>\n",
       "      <td>COROLLA BA</td>\n",
       "      <td>WHITE</td>\n",
       "      <td>Rear</td>\n",
       "      <td>Pure</td>\n",
       "      <td>2013</td>\n",
       "      <td>92454</td>\n",
       "      <td>10063.00</td>\n",
       "      <td>4139.485237</td>\n",
       "    </tr>\n",
       "    <tr>\n",
       "      <th>21</th>\n",
       "      <td>COROLLA BA</td>\n",
       "      <td>SILVER</td>\n",
       "      <td>Rear</td>\n",
       "      <td>Minimum</td>\n",
       "      <td>2012</td>\n",
       "      <td>60649</td>\n",
       "      <td>8588.75</td>\n",
       "      <td>2894.631605</td>\n",
       "    </tr>\n",
       "    <tr>\n",
       "      <th>22</th>\n",
       "      <td>COROLLA BA</td>\n",
       "      <td>BLACK</td>\n",
       "      <td>Rear</td>\n",
       "      <td>Pure</td>\n",
       "      <td>2013</td>\n",
       "      <td>54383</td>\n",
       "      <td>10865.00</td>\n",
       "      <td>3834.956713</td>\n",
       "    </tr>\n",
       "    <tr>\n",
       "      <th>23</th>\n",
       "      <td>COROLLA BA</td>\n",
       "      <td>RED</td>\n",
       "      <td>Rear</td>\n",
       "      <td>Pure</td>\n",
       "      <td>2012</td>\n",
       "      <td>91710</td>\n",
       "      <td>7200.00</td>\n",
       "      <td>2587.772778</td>\n",
       "    </tr>\n",
       "    <tr>\n",
       "      <th>24</th>\n",
       "      <td>COROLLA BA</td>\n",
       "      <td>GOLD</td>\n",
       "      <td>Rear</td>\n",
       "      <td>Minimum</td>\n",
       "      <td>2012</td>\n",
       "      <td>89774</td>\n",
       "      <td>6920.00</td>\n",
       "      <td>3054.428047</td>\n",
       "    </tr>\n",
       "    <tr>\n",
       "      <th>25</th>\n",
       "      <td>COROLLA BA</td>\n",
       "      <td>BLUE</td>\n",
       "      <td>Rear</td>\n",
       "      <td>Pure</td>\n",
       "      <td>2013</td>\n",
       "      <td>81946</td>\n",
       "      <td>8536.00</td>\n",
       "      <td>3089.965468</td>\n",
       "    </tr>\n",
       "    <tr>\n",
       "      <th>26</th>\n",
       "      <td>COROLLA BA</td>\n",
       "      <td>BLUE</td>\n",
       "      <td>Rear</td>\n",
       "      <td>Minimum</td>\n",
       "      <td>2013</td>\n",
       "      <td>55563</td>\n",
       "      <td>11247.00</td>\n",
       "      <td>3451.133937</td>\n",
       "    </tr>\n",
       "    <tr>\n",
       "      <th>27</th>\n",
       "      <td>COROLLA BA</td>\n",
       "      <td>WHITE</td>\n",
       "      <td>Rear</td>\n",
       "      <td>Minimum</td>\n",
       "      <td>2012</td>\n",
       "      <td>85300</td>\n",
       "      <td>8496.00</td>\n",
       "      <td>3311.794851</td>\n",
       "    </tr>\n",
       "  </tbody>\n",
       "</table>\n",
       "</div>"
      ],
      "text/plain": [
       "   Model Group     Color Damage Description Sale Status  Year  Odometer  \\\n",
       "0   COROLLA BA    SILVER              Front     Minimum  2012     26467   \n",
       "1   COROLLA BA     BLACK              Front     Minimum  2013     92019   \n",
       "2   COROLLA BA      BLUE              Front     Minimum  2013     60890   \n",
       "3   COROLLA BA      BLUE              Front     Minimum  2012     83581   \n",
       "4   COROLLA BA      GRAY              Front     Minimum  2013     63958   \n",
       "5   COROLLA BA     BLACK              Front     Minimum  2012     89688   \n",
       "6   COROLLA BA      BLUE              Front        Pure  2012     67531   \n",
       "7   COROLLA BA    SILVER              Front     Minimum  2013     94010   \n",
       "8   COROLLA BA       RED              Front        Pure  2013     42246   \n",
       "9   COROLLA BA     BLACK              Front     Minimum  2012     78428   \n",
       "10  COROLLA BA     BLACK              Front     Minimum  2013     56414   \n",
       "11  COROLLA BA      GRAY              Front    Approval  2013     55968   \n",
       "12  COROLLA BA       RED              Front     Minimum  2013     90970   \n",
       "13  COROLLA BA       RED              Front     Minimum  2013     71318   \n",
       "14  COROLLA BA      GRAY              Front        Pure  2012     55186   \n",
       "15  COROLLA BA    SILVER              Front     Minimum  2012     79201   \n",
       "16  COROLLA BA  BURGUNDY               Rear     Minimum  2013     81929   \n",
       "17  COROLLA BA       RED               Rear        Pure  2012     54713   \n",
       "18  COROLLA BA      BLUE               Rear     Minimum  2013     86759   \n",
       "19  COROLLA BA       RED               Rear     Minimum  2012     50335   \n",
       "20  COROLLA BA     WHITE               Rear        Pure  2013     92454   \n",
       "21  COROLLA BA    SILVER               Rear     Minimum  2012     60649   \n",
       "22  COROLLA BA     BLACK               Rear        Pure  2013     54383   \n",
       "23  COROLLA BA       RED               Rear        Pure  2012     91710   \n",
       "24  COROLLA BA      GOLD               Rear     Minimum  2012     89774   \n",
       "25  COROLLA BA      BLUE               Rear        Pure  2013     81946   \n",
       "26  COROLLA BA      BLUE               Rear     Minimum  2013     55563   \n",
       "27  COROLLA BA     WHITE               Rear     Minimum  2012     85300   \n",
       "\n",
       "    Est. Retail Value        Price  \n",
       "0             9993.00  2652.572750  \n",
       "1             8435.00  2664.718118  \n",
       "2             9996.00  2685.596573  \n",
       "3             9597.00  2339.827216  \n",
       "4            10518.00  2993.255831  \n",
       "5             8346.00  2353.927409  \n",
       "6             9084.00  2399.533267  \n",
       "7             9036.00  2820.728225  \n",
       "8            11142.00  3163.378282  \n",
       "9             8440.00  2359.830384  \n",
       "10            9257.00  2796.840078  \n",
       "11           10231.00  3424.762016  \n",
       "12           10078.00  2804.562536  \n",
       "13           10513.00  2873.443837  \n",
       "14            8820.00  2517.517283  \n",
       "15            6739.00  2016.578720  \n",
       "16           10233.00  3882.717063  \n",
       "17           10008.00  3147.493483  \n",
       "18            8473.00  2891.335074  \n",
       "19           10819.00  3126.054975  \n",
       "20           10063.00  4139.485237  \n",
       "21            8588.75  2894.631605  \n",
       "22           10865.00  3834.956713  \n",
       "23            7200.00  2587.772778  \n",
       "24            6920.00  3054.428047  \n",
       "25            8536.00  3089.965468  \n",
       "26           11247.00  3451.133937  \n",
       "27            8496.00  3311.794851  "
      ]
     },
     "execution_count": 33,
     "metadata": {},
     "output_type": "execute_result"
    }
   ],
   "source": [
    "corolla_full"
   ]
  },
  {
   "cell_type": "code",
   "execution_count": null,
   "metadata": {},
   "outputs": [],
   "source": []
  },
  {
   "cell_type": "code",
   "execution_count": null,
   "metadata": {},
   "outputs": [],
   "source": []
  }
 ],
 "metadata": {
  "kernelspec": {
   "display_name": "Python 3",
   "language": "python",
   "name": "python3"
  },
  "language_info": {
   "codemirror_mode": {
    "name": "ipython",
    "version": 3
   },
   "file_extension": ".py",
   "mimetype": "text/x-python",
   "name": "python",
   "nbconvert_exporter": "python",
   "pygments_lexer": "ipython3",
   "version": "3.6.5"
  }
 },
 "nbformat": 4,
 "nbformat_minor": 2
}
